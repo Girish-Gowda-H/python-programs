{
 "cells": [
  {
   "cell_type": "code",
   "execution_count": 2,
   "metadata": {},
   "outputs": [
    {
     "name": "stdout",
     "output_type": "stream",
     "text": [
      "Girish\n",
      "raju\n",
      "Girish raj\n",
      "Girishraj\n"
     ]
    }
   ],
   "source": [
    "# 1 String concatenation\n",
    "a=\"Girish\"\n",
    "b=\"raj\"\n",
    "print(a)\n",
    "print(b)\n",
    "print(a,b)\n",
    "print(a+b)"
   ]
  },
  {
   "cell_type": "code",
   "execution_count": 9,
   "metadata": {},
   "outputs": [
    {
     "name": "stdout",
     "output_type": "stream",
     "text": [
      "c is largest no\n"
     ]
    }
   ],
   "source": [
    "# 2 Greatest no between two nos\n",
    "a,b,c=72,45,99\n",
    "if (a>b)and(a>c):\n",
    "    print(\"a is the largest no\")\n",
    "elif (b>a)and(b>c):\n",
    "    print(\"b is largest no\")\n",
    "else:\n",
    "    print(\"c is largest no\")\n",
    "         "
   ]
  },
  {
   "cell_type": "code",
   "execution_count": 10,
   "metadata": {},
   "outputs": [
    {
     "name": "stdout",
     "output_type": "stream",
     "text": [
      "Enter the six subject marks\n",
      "Enter Kannada marks 94\n",
      "Enter English marks 69\n",
      "Enter Hindi marks 78\n",
      "Enter Maths marks 37\n",
      "Enter Science marks 58\n",
      "Enter Social marks 69\n",
      "Total is  405\n",
      "Average is  67\n",
      "Percentage is  67.5\n"
     ]
    }
   ],
   "source": [
    "# 3 sum of six subject marks and average\n",
    "print(\"Enter the six subject marks\")\n",
    "subject1=int(input(\"Enter Kannada marks \"))\n",
    "subject2=int(input(\"Enter English marks \"))\n",
    "subject3=int(input(\"Enter Hindi marks \"))\n",
    "subject4=int(input(\"Enter Maths marks \"))\n",
    "subject5=int(input(\"Enter Science marks \"))\n",
    "subject6=int(input(\"Enter Social marks \"))\n",
    "total=subject1+subject2+subject3+subject4+subject5+subject6\n",
    "print(\"Total is \",total)\n",
    "average=total//6\n",
    "print(\"Average is \",average)\n",
    "percentage=(total/600)*100\n",
    "print(\"Percentage is \",percentage)\n",
    "\n"
   ]
  },
  {
   "cell_type": "code",
   "execution_count": 11,
   "metadata": {},
   "outputs": [
    {
     "name": "stdout",
     "output_type": "stream",
     "text": [
      "Enter the year2024\n",
      "2024  is leap year\n"
     ]
    }
   ],
   "source": [
    "# 4 Find out given year is leap year or not\n",
    "year=int(input(\"Enter the year\"))\n",
    "if (year%4)==0:\n",
    "    print(year,\" is leap year\")\n",
    "else:\n",
    "    print(year,\" is not leap year\")"
   ]
  },
  {
   "cell_type": "code",
   "execution_count": 12,
   "metadata": {},
   "outputs": [
    {
     "name": "stdout",
     "output_type": "stream",
     "text": [
      "enter nth fibo no 23\n",
      "0 1 1 2 3 5 8 13 21 "
     ]
    }
   ],
   "source": [
    "# 5 fibonacci program \n",
    "def fib(n):\n",
    "    a,b=0,1\n",
    "    while a<n:\n",
    "        print(a,end=' ')\n",
    "        a,b=b,a+b\n",
    "fib(int(input(\"enter nth fibo no \")))"
   ]
  },
  {
   "cell_type": "code",
   "execution_count": 16,
   "metadata": {},
   "outputs": [
    {
     "name": "stdout",
     "output_type": "stream",
     "text": [
      "Enter the the no 5\n",
      "120\n"
     ]
    }
   ],
   "source": [
    "# 6 factorial program using while loop\n",
    "n=int(input(\"Enter the the no \"))\n",
    "x,fact=1,1\n",
    "while (x<=n):\n",
    "    fact=fact*x\n",
    "    x=x+1\n",
    "print(fact)"
   ]
  },
  {
   "cell_type": "code",
   "execution_count": 17,
   "metadata": {},
   "outputs": [
    {
     "name": "stdout",
     "output_type": "stream",
     "text": [
      "Enter an integer4\n"
     ]
    },
    {
     "data": {
      "text/plain": [
       "24"
      ]
     },
     "execution_count": 17,
     "metadata": {},
     "output_type": "execute_result"
    }
   ],
   "source": [
    "# 7 factorial program using recursion\n",
    "def fact(n):\n",
    "    if(n>=1):\n",
    "        return n*fact(n-1)\n",
    "    else:\n",
    "        return 1\n",
    "n=int(input(\"Enter an integer\"))\n",
    "fact(n)\n",
    "\n",
    "    \n",
    "    "
   ]
  },
  {
   "cell_type": "code",
   "execution_count": 36,
   "metadata": {},
   "outputs": [
    {
     "name": "stdout",
     "output_type": "stream",
     "text": [
      "Enter the integer no 1\n",
      "1 it is not a prime no\n"
     ]
    }
   ],
   "source": [
    "# 8 To find a prime no\n",
    "n=int(input(\"Enter the integer no \"))\n",
    "if n>1:\n",
    "    for i in range(2,n//2):\n",
    "        if(n%i)==0:\n",
    "            print(n,\" it is not a prime no\")\n",
    "            break\n",
    "    else:\n",
    "        print(n, \" it is a prime no\")\n",
    "                    \n",
    "else:\n",
    "    print(n,\"it is not a prime no\")\n",
    "        \n",
    "    \n",
    "    \n"
   ]
  },
  {
   "cell_type": "code",
   "execution_count": 42,
   "metadata": {},
   "outputs": [
    {
     "name": "stdout",
     "output_type": "stream",
     "text": [
      "Enter the starting no 1\n",
      "Enter the ending series 15\n",
      "2 3 5 7 11 13 "
     ]
    }
   ],
   "source": [
    "# 9 program to print prime series\n",
    "start=int(input(\"Enter the starting no \"))\n",
    "end=int(input(\"Enter the ending series \"))\n",
    "\n",
    "for number in range(start,end):\n",
    "    if(number>1):\n",
    "        for i in range(2,number):\n",
    "            if(number%i==0):\n",
    "                break\n",
    "        else:\n",
    "            print(number,end=\" \")\n",
    "                "
   ]
  },
  {
   "cell_type": "code",
   "execution_count": 47,
   "metadata": {},
   "outputs": [
    {
     "name": "stdout",
     "output_type": "stream",
     "text": [
      "['who', 'are', 'you']\n",
      "['who', 'are']\n",
      "['are', 'you']\n",
      "['who', 'are', 'you']\n",
      "['where', 'are', 'you']\n"
     ]
    }
   ],
   "source": [
    "# 10 lists\n",
    "a =['who','are','you']\n",
    "print(a)\n",
    "print(a[:2])\n",
    "print(a[1:])\n",
    "print(a[0:])\n",
    "a[0]='where'\n",
    "print(a)"
   ]
  },
  {
   "cell_type": "code",
   "execution_count": 54,
   "metadata": {},
   "outputs": [
    {
     "name": "stdout",
     "output_type": "stream",
     "text": [
      "['I', 'L', 'O', 'V', 'E', 'Y', 'O', 'U']\n",
      "['I', 'L', 'O', 'V', 'E', 'I', 'L', 'O', 'V', 'E']\n"
     ]
    }
   ],
   "source": [
    "# 11 lists\n",
    "a=['I','L','O','V','E']\n",
    "b=['Y','O','U']\n",
    "c=a+b\n",
    "print(c)\n",
    "c=a+a\n",
    "print(c)\n"
   ]
  },
  {
   "cell_type": "code",
   "execution_count": 75,
   "metadata": {},
   "outputs": [
    {
     "name": "stdout",
     "output_type": "stream",
     "text": [
      "I\n",
      "L\n",
      "O\n",
      "V\n",
      "E\n",
      "I L O V E "
     ]
    }
   ],
   "source": [
    "# 12 lists traverse using for loop\n",
    "a=['I','L','O','V','E']\n",
    "for i in range(len(a)):\n",
    "    print(a[i])\n",
    "for i in range(len(a)):\n",
    "    print(a[i],end=\" \")    "
   ]
  },
  {
   "cell_type": "code",
   "execution_count": 62,
   "metadata": {},
   "outputs": [
    {
     "name": "stdout",
     "output_type": "stream",
     "text": [
      "['I', 'L', 'O', 'V', 'E', 'you']\n",
      "['I', 'L', 'O', 'V', 'E', 'YOU']\n"
     ]
    }
   ],
   "source": [
    "# 13\n",
    "a=['I','L','O','V','E']\n",
    "a.append('you')\n",
    "print(a)\n",
    "a[5]='YOU'\n",
    "print(a)"
   ]
  },
  {
   "cell_type": "code",
   "execution_count": 64,
   "metadata": {},
   "outputs": [
    {
     "data": {
      "text/plain": [
       "5"
      ]
     },
     "execution_count": 64,
     "metadata": {},
     "output_type": "execute_result"
    }
   ],
   "source": [
    "# 14 lists length\n",
    "a=['I','L','O','V','E']\n",
    "len(a)\n"
   ]
  },
  {
   "cell_type": "code",
   "execution_count": 2,
   "metadata": {},
   "outputs": [
    {
     "name": "stdout",
     "output_type": "stream",
     "text": [
      "[['I', 'L', 'O', 'V', 'E'], ['Y', 'O', 'U']]\n",
      "I\n"
     ]
    }
   ],
   "source": [
    "# 15 nest lists\n",
    "a=['I','L','O','V','E']\n",
    "b=['Y','O','U']\n",
    "c=[a,b]\n",
    "print(c)\n",
    "print(c[0][0])\n"
   ]
  },
  {
   "cell_type": "code",
   "execution_count": 1,
   "metadata": {},
   "outputs": [
    {
     "name": "stdout",
     "output_type": "stream",
     "text": [
      "I\n",
      "L\n",
      "O\n",
      "V\n",
      "E\n"
     ]
    }
   ],
   "source": [
    "# 16 printing list elements using while loop\n",
    "a=['I','L','O','V','E']\n",
    "i=0\n",
    "while i<len(a):\n",
    "    print(a[i])\n",
    "    i=i+1"
   ]
  },
  {
   "cell_type": "code",
   "execution_count": 5,
   "metadata": {},
   "outputs": [
    {
     "name": "stdout",
     "output_type": "stream",
     "text": [
      "{'name': 'girish', 'gender': 'male', 'Ph no': 8553333818}\n"
     ]
    }
   ],
   "source": [
    "# 17 dictionary\n",
    "mydict={\"name\":\"girish\",\"gender\":\"male\",\"Ph no\":8553333818}\n",
    "print(mydict)"
   ]
  },
  {
   "cell_type": "code",
   "execution_count": 8,
   "metadata": {},
   "outputs": [
    {
     "name": "stdout",
     "output_type": "stream",
     "text": [
      "girish\n",
      "{'name': 'girish', 'gender': 'male', 'Ph no': 9901908422}\n"
     ]
    }
   ],
   "source": [
    "# 18 dictionary \n",
    "mydict={\"name\":\"girish\",\"gender\":\"male\",\"Ph no\":8553333818}\n",
    "print(mydict[\"name\"])\n",
    "mydict[\"Ph no\"]=9901908422\n",
    "print(mydict)"
   ]
  },
  {
   "cell_type": "code",
   "execution_count": 15,
   "metadata": {},
   "outputs": [
    {
     "name": "stdout",
     "output_type": "stream",
     "text": [
      "{'name': 'girish', 'gender': 'male', 'Ph no': 8553333919}\n",
      "girish\n",
      "male\n",
      "8553333919\n",
      "name girish\n",
      "gender male\n",
      "Ph no 8553333919\n"
     ]
    }
   ],
   "source": [
    "# 19 Duplicate values will overwrite existing values:\n",
    "mydict={\"name\":\"girish\",\"gender\":\"male\",\"Ph no\":8553333818,\"Ph no\":8553333919}\n",
    "print(mydict)\n",
    "for i in mydict:\n",
    "    print(mydict[i])\n",
    "for i in mydict:\n",
    "    print(i,mydict[i])"
   ]
  },
  {
   "cell_type": "code",
   "execution_count": 19,
   "metadata": {},
   "outputs": [
    {
     "name": "stdout",
     "output_type": "stream",
     "text": [
      "{'name': 'girish', 'gender': 'male', 'Ph no': 8553333818, 'skills': ['c', 'java', 'python']}\n",
      "4\n",
      "name girish\n",
      "gender male\n",
      "Ph no 8553333818\n",
      "skills ['c', 'java', 'python']\n"
     ]
    }
   ],
   "source": [
    "# 20 list data type used in dict\n",
    "mydict={\"name\":\"girish\",\"gender\":\"male\",\"Ph no\":8553333818,\"skills\":['c','java','python']}\n",
    "print(mydict)\n",
    "print(len(mydict))\n",
    "for i in mydict:\n",
    "    print(i,mydict[i])"
   ]
  },
  {
   "cell_type": "code",
   "execution_count": 25,
   "metadata": {},
   "outputs": [
    {
     "name": "stdout",
     "output_type": "stream",
     "text": [
      "<class 'list'>\n",
      "['praveen', 2, 'raju']\n",
      "<class 'tuple'>\n",
      "('apple', 'banana', 'cherry')\n",
      "<class 'dict'>\n",
      "{'name': 'Girish', 'gender': 'male', 'ph no': 8553333818}\n",
      "<class 'set'>\n",
      "{'Mysore', 'Bangalore', 'Hubli'}\n"
     ]
    }
   ],
   "source": [
    "# 21 type()\n",
    "friends=['praveen',2,'raju']\n",
    "fruits=('apple','banana','cherry')\n",
    "personalinfo={\"name\":\"Girish\",\"gender\":\"male\",\"ph no\":8553333818}\n",
    "places={'Bangalore','Mysore','Hubli'}\n",
    "print(type(friends))\n",
    "print(friends)\n",
    "print(type(fruits))\n",
    "print(fruits)\n",
    "print(type(personalinfo))\n",
    "print(personalinfo)\n",
    "print(type(places))\n",
    "print(places)\n"
   ]
  },
  {
   "cell_type": "code",
   "execution_count": 29,
   "metadata": {},
   "outputs": [
    {
     "ename": "TypeError",
     "evalue": "'tuple' object does not support item assignment",
     "output_type": "error",
     "traceback": [
      "\u001b[1;31m---------------------------------------------------------------------------\u001b[0m",
      "\u001b[1;31mTypeError\u001b[0m                                 Traceback (most recent call last)",
      "\u001b[1;32m<ipython-input-29-4d386e074283>\u001b[0m in \u001b[0;36m<module>\u001b[1;34m\u001b[0m\n\u001b[0;32m      1\u001b[0m \u001b[1;31m# 22 tuples unchangeable\u001b[0m\u001b[1;33m\u001b[0m\u001b[1;33m\u001b[0m\u001b[1;33m\u001b[0m\u001b[0m\n\u001b[0;32m      2\u001b[0m \u001b[0mskills\u001b[0m\u001b[1;33m=\u001b[0m\u001b[1;33m(\u001b[0m\u001b[1;34m'c'\u001b[0m\u001b[1;33m,\u001b[0m\u001b[1;34m'java'\u001b[0m\u001b[1;33m,\u001b[0m\u001b[1;34m'python'\u001b[0m\u001b[1;33m)\u001b[0m\u001b[1;33m\u001b[0m\u001b[1;33m\u001b[0m\u001b[0m\n\u001b[1;32m----> 3\u001b[1;33m \u001b[0mskills\u001b[0m\u001b[1;33m[\u001b[0m\u001b[1;36m0\u001b[0m\u001b[1;33m]\u001b[0m\u001b[1;33m=\u001b[0m\u001b[1;34m'c++'\u001b[0m\u001b[1;33m\u001b[0m\u001b[1;33m\u001b[0m\u001b[0m\n\u001b[0m\u001b[0;32m      4\u001b[0m \u001b[0mprint\u001b[0m\u001b[1;33m(\u001b[0m\u001b[0mskills\u001b[0m\u001b[1;33m)\u001b[0m\u001b[1;33m\u001b[0m\u001b[1;33m\u001b[0m\u001b[0m\n",
      "\u001b[1;31mTypeError\u001b[0m: 'tuple' object does not support item assignment"
     ]
    }
   ],
   "source": [
    "# 22 tuples unchangeable\n",
    "skills=('c','java','python')\n",
    "skills[0]='c++'\n",
    "print(skills)\n"
   ]
  },
  {
   "cell_type": "code",
   "execution_count": 39,
   "metadata": {},
   "outputs": [
    {
     "name": "stdout",
     "output_type": "stream",
     "text": [
      "('c', 'java', 'python')\n",
      "c\n",
      "java\n",
      "python\n",
      "c,java,python,\n",
      "('c',)\n",
      "('java', 'python')\n"
     ]
    }
   ],
   "source": [
    "# 23 tuples using for loop\n",
    "skills=('c','java','python')\n",
    "print(skills)\n",
    "for i in skills:\n",
    "   print(i)\n",
    "for i in range(len(skills)):\n",
    "    print(skills[i],end=\",\")\n",
    "print()\n",
    "print(skills[:1])\n",
    "print(skills[-2:])"
   ]
  },
  {
   "cell_type": "code",
   "execution_count": 40,
   "metadata": {},
   "outputs": [
    {
     "name": "stdout",
     "output_type": "stream",
     "text": [
      "('c++', 'java', 'python')\n"
     ]
    }
   ],
   "source": [
    "# 24 convert the tuples into list to change the item\n",
    "skills=('c','java','python')\n",
    "y=list(skills)\n",
    "y[0]='c++'\n",
    "skills=tuple(y)\n",
    "print(skills)"
   ]
  },
  {
   "cell_type": "code",
   "execution_count": 46,
   "metadata": {},
   "outputs": [
    {
     "name": "stdout",
     "output_type": "stream",
     "text": [
      "python\n",
      "c\n",
      "java\n",
      "['python', 'sql', 'html']\n",
      "c\n",
      "['java', 'python', 'sql']\n",
      "html\n"
     ]
    }
   ],
   "source": [
    "# 25 unpacking tuples\n",
    "skills=('c','java','python')\n",
    "(a,b,c)=skills\n",
    "print(c)\n",
    "#demonstration of * \n",
    "skills=('c','java','python','sql','html')\n",
    "(a,b,*c)=skills\n",
    "print(a)\n",
    "print(b)\n",
    "print(c)\n",
    "skills=('c','java','python','sql','html')\n",
    "(a,*b,c)=skills\n",
    "print(a)\n",
    "print(b)\n",
    "print(c)"
   ]
  },
  {
   "cell_type": "code",
   "execution_count": 51,
   "metadata": {},
   "outputs": [
    {
     "name": "stdout",
     "output_type": "stream",
     "text": [
      "('c', 'java', 'python', 'c')\n",
      "['giri', 'raju', 'giri']\n",
      "{'name': 'Girish', 'gender': 'male', 'ph no': 9901908422}\n",
      "2\n"
     ]
    }
   ],
   "source": [
    "# 26 sets not allow duplicate value\n",
    "# tuples allow duplicate value\n",
    "skills=('c','java','python','c')\n",
    "print(skills)\n",
    "# lists allow duplicate values\n",
    "name=['giri','raju','giri']\n",
    "print(name)\n",
    "# dictonary not allow duplicate values\n",
    "personalinfo={\"name\":\"Girish\",\"gender\":\"male\",\"ph no\":8553333818,\"ph no\":9901908422}\n",
    "print(personalinfo)\n",
    "# sets not allow duplicate values\n",
    "names={'giri','raju','giri'}\n",
    "print(names)\n",
    "\n"
   ]
  },
  {
   "cell_type": "code",
   "execution_count": 2,
   "metadata": {},
   "outputs": [
    {
     "name": "stdout",
     "output_type": "stream",
     "text": [
      "giri\n",
      "roy\n",
      "raju\n",
      "{'giri', 'raghava', 'roy', 'raju'}\n",
      "{'roy', 'pravin', 'kiran', 'giri', 'raju', 'raghava'}\n",
      "{'raju', 'roy', 'python', 'c', 'pravin', 'kiran', 'giri', 'java', 'raghava'}\n",
      "{'raju', 'roy', 'python', 'c', 'pravin', 'kiran', 'giri', 'gender', 'java', 'name', 'ph no', 'raghava'}\n"
     ]
    }
   ],
   "source": [
    "# 27 add items to set\n",
    "names={'giri','raju','roy'}\n",
    "name={'pravin','kiran'}\n",
    "for i in names:\n",
    "    print(i)\n",
    "# to add an item\n",
    "names.add('raghava')\n",
    "print(names)\n",
    "# add two sets\n",
    "name.update(names)\n",
    "print(name)\n",
    "# add tuples to set\n",
    "skills=('c','java','python','c')\n",
    "name.update(skills)\n",
    "print(name)\n",
    "# add dictonary to set\n",
    "personalinfo={\"name\":\"Girish\",\"gender\":\"male\",\"ph no\":8553333818,\"ph no\":9901908422}\n",
    "name.update(personalinfo)\n",
    "print(name)\n"
   ]
  },
  {
   "cell_type": "code",
   "execution_count": 11,
   "metadata": {},
   "outputs": [
    {
     "name": "stdout",
     "output_type": "stream",
     "text": [
      "{'giri', 'raju'}\n",
      "set()\n",
      "giri\n",
      "roy\n",
      "raju\n"
     ]
    }
   ],
   "source": [
    "# 28 to remove elements from set using remove()\n",
    "names={'giri','raju','roy'}\n",
    "names.remove('roy')\n",
    "print(names)\n",
    "names={'giri','raju','roy'}\n",
    "# clear method is to make set empty\n",
    "names.clear()\n",
    "print(names)\n",
    "# to delete set using del keyword\n",
    "del names\n",
    "# for loop in sets\n",
    "names={'giri','raju','roy'}\n",
    "for i in names:\n",
    "    print(i)\n",
    "    \n",
    "\n",
    "\n"
   ]
  },
  {
   "cell_type": "code",
   "execution_count": 19,
   "metadata": {},
   "outputs": [
    {
     "name": "stdout",
     "output_type": "stream",
     "text": [
      "{'roy', 20, 'giri', 25, 26, 'raju'}\n",
      "{'giri', 'raju'}\n",
      "{'giri', 'raju'}\n",
      "{'teju', 'roy'}\n",
      "{'teju', 'roy'}\n"
     ]
    }
   ],
   "source": [
    "# 29 union() in sets\n",
    "names={'giri','raju','roy'}\n",
    "age={25,26,20}\n",
    "set3=names.union(age)\n",
    "print(set3)\n",
    "# intersection() in sets\n",
    "nam={'giri','raju','teju'}\n",
    "y=names.intersection(nam)\n",
    "print(y)\n",
    "# intersection_update()\n",
    "nam={'giri','raju','teju'}\n",
    "names.intersection_update(nam)\n",
    "print(names)\n",
    "# symmetric difference\n",
    "nam={'giri','raju','teju'}\n",
    "names={'giri','raju','roy'}\n",
    "z=nam.symmetric_difference(names)\n",
    "print(z)\n",
    "# symmetric_difference_update()\n",
    "nam={'giri','raju','teju'}\n",
    "names={'giri','raju','roy'}\n",
    "nam.symmetric_difference_update(names)\n",
    "print(nam)"
   ]
  },
  {
   "cell_type": "code",
   "execution_count": null,
   "metadata": {},
   "outputs": [],
   "source": []
  }
 ],
 "metadata": {
  "kernelspec": {
   "display_name": "Python 3",
   "language": "python",
   "name": "python3"
  },
  "language_info": {
   "codemirror_mode": {
    "name": "ipython",
    "version": 3
   },
   "file_extension": ".py",
   "mimetype": "text/x-python",
   "name": "python",
   "nbconvert_exporter": "python",
   "pygments_lexer": "ipython3",
   "version": "3.7.4"
  }
 },
 "nbformat": 4,
 "nbformat_minor": 2
}
