{
 "cells": [
  {
   "cell_type": "code",
   "execution_count": 1,
   "id": "062b8196",
   "metadata": {},
   "outputs": [
    {
     "name": "stdout",
     "output_type": "stream",
     "text": [
      "    names  age\n",
      "0  girish   27\n",
      "1    raju   26\n",
      "2  pravin   27\n",
      "1.4.2\n"
     ]
    }
   ],
   "source": [
    "import pandas as pd\n",
    "mydataset = {\n",
    "  'names': [\"girish\", \"raju\", \"pravin\"],\n",
    "  'age': [27,26, 27]\n",
    "}\n",
    "a=pd.DataFrame(mydataset)\n",
    "print(a)\n",
    "print(pd.__version__)"
   ]
  },
  {
   "cell_type": "code",
   "execution_count": 2,
   "id": "f2dc74c6",
   "metadata": {},
   "outputs": [
    {
     "name": "stdout",
     "output_type": "stream",
     "text": [
      "0    1\n",
      "1    7\n",
      "2    2\n",
      "dtype: int64\n"
     ]
    }
   ],
   "source": [
    "#import pandas as pd\n",
    "a=[1,7,2]\n",
    "var=pd.Series(a)\n",
    "print(var)"
   ]
  },
  {
   "cell_type": "code",
   "execution_count": 3,
   "id": "2e76c745",
   "metadata": {},
   "outputs": [
    {
     "name": "stdout",
     "output_type": "stream",
     "text": [
      "x    1\n",
      "y    7\n",
      "z    2\n",
      "dtype: int64\n",
      "1\n"
     ]
    }
   ],
   "source": [
    "var=pd.Series(a,index=['x','y','z'])\n",
    "print(var)\n",
    "print(var['x'])"
   ]
  },
  {
   "cell_type": "code",
   "execution_count": 4,
   "id": "00a8bbf6",
   "metadata": {},
   "outputs": [
    {
     "name": "stdout",
     "output_type": "stream",
     "text": [
      "name       girish\n",
      "age            27\n",
      "college      DSEA\n",
      "dtype: object\n",
      "girish\n"
     ]
    }
   ],
   "source": [
    "details={\"name\":\"girish\",\"age\":27,\"college\":\"DSEA\"}\n",
    "var=pd.Series(details)\n",
    "print(var)\n",
    "print(var['name'])"
   ]
  },
  {
   "cell_type": "code",
   "execution_count": 5,
   "id": "50fe0a72",
   "metadata": {},
   "outputs": [
    {
     "name": "stdout",
     "output_type": "stream",
     "text": [
      "name       girish\n",
      "college      DSEA\n",
      "dtype: object\n",
      "name       girish\n",
      "age            27\n",
      "college      DSEA\n",
      "dtype: object\n"
     ]
    }
   ],
   "source": [
    "myvar=pd.Series(details,index=[\"name\",\"college\"])\n",
    "print(myvar)\n",
    "print(var)"
   ]
  },
  {
   "cell_type": "code",
   "execution_count": 6,
   "id": "d9913359",
   "metadata": {},
   "outputs": [
    {
     "name": "stdout",
     "output_type": "stream",
     "text": [
      "   fruits  prices   color\n",
      "0   apple     120     red\n",
      "1  banana      50  yellow\n",
      "2  grapes      80   green\n",
      "0     apple\n",
      "1    banana\n",
      "2    grapes\n",
      "Name: fruits, dtype: object\n"
     ]
    }
   ],
   "source": [
    "import pandas as pd\n",
    "data={\n",
    "    \"fruits\":[\"apple\",\"banana\",\"grapes\"],\n",
    "    \"prices\":[120,50,80],\n",
    "    \"color\":[\"red\",\"yellow\",\"green\"]\n",
    "}\n",
    "var=pd.DataFrame(data)\n",
    "print(var)\n",
    "print(var[\"fruits\"])"
   ]
  },
  {
   "cell_type": "code",
   "execution_count": 7,
   "id": "032f1ef0",
   "metadata": {},
   "outputs": [
    {
     "name": "stdout",
     "output_type": "stream",
     "text": [
      "   fruits  prices   color\n",
      "1  banana      50  yellow\n",
      "2  grapes      80   green\n"
     ]
    }
   ],
   "source": [
    "# to fetch a specified row use loc\n",
    "print(var.loc[1:])\n",
    "# index label "
   ]
  },
  {
   "cell_type": "code",
   "execution_count": 8,
   "id": "3b2dbf20",
   "metadata": {},
   "outputs": [
    {
     "name": "stdout",
     "output_type": "stream",
     "text": [
      "   fruits  prices   color\n",
      "0   apple     120     red\n",
      "1  banana      50  yellow\n",
      "   fruits  prices  color\n",
      "2  grapes      80  green\n"
     ]
    }
   ],
   "source": [
    "# demonstration of head specified rows using head\n",
    "print(var.head(2))\n",
    "# demonstration of tail specified rows using tail\n",
    "print(var.tail(1))"
   ]
  },
  {
   "cell_type": "code",
   "execution_count": 9,
   "id": "44fb46ae",
   "metadata": {},
   "outputs": [
    {
     "name": "stdout",
     "output_type": "stream",
     "text": [
      "   fruits  prices   color\n",
      "0   apple     120     red\n",
      "1  banana      50  yellow\n",
      "2  grapes      80   green\n",
      "   fruits  prices   color\n",
      "0   apple     120     red\n",
      "1  banana      50  yellow\n",
      "2  grapes      80   green\n"
     ]
    }
   ],
   "source": [
    "data={\n",
    "    \"fruits\":[\"apple\",\"banana\",\"grapes\"],\n",
    "    \"prices\":[120,50,80],\n",
    "    \"color\":[\"red\",\"yellow\",\"green\"]\n",
    "}\n",
    "var=pd.DataFrame(data)\n",
    "print(var)\n",
    "print(var.loc[:2])"
   ]
  },
  {
   "cell_type": "code",
   "execution_count": 10,
   "id": "9072c977",
   "metadata": {},
   "outputs": [
    {
     "name": "stdout",
     "output_type": "stream",
     "text": [
      "<class 'pandas.core.frame.DataFrame'>\n",
      "RangeIndex: 3 entries, 0 to 2\n",
      "Data columns (total 3 columns):\n",
      " #   Column  Non-Null Count  Dtype \n",
      "---  ------  --------------  ----- \n",
      " 0   fruits  3 non-null      object\n",
      " 1   prices  3 non-null      int64 \n",
      " 2   color   3 non-null      object\n",
      "dtypes: int64(1), object(2)\n",
      "memory usage: 200.0+ bytes\n",
      "None\n"
     ]
    }
   ],
   "source": [
    "# info() function is used to information of database\n",
    "print(var.info())"
   ]
  },
  {
   "cell_type": "code",
   "execution_count": 11,
   "id": "ec95b7a0",
   "metadata": {},
   "outputs": [
    {
     "name": "stdout",
     "output_type": "stream",
     "text": [
      "    Duration          Date  Pulse  Maxpulse  Calories\n",
      "0         60  '2020/12/01'    110       130     409.1\n",
      "1         60  '2020/12/02'    117       145     479.0\n",
      "2         60  '2020/12/03'    103       135     340.0\n",
      "3         45  '2020/12/04'    109       175     282.4\n",
      "4         45  '2020/12/05'    117       148     406.0\n",
      "5         60  '2020/12/06'    102       127     300.0\n",
      "6         60  '2020/12/07'    110       136     374.0\n",
      "7        450  '2020/12/08'    104       134     253.3\n",
      "8         30  '2020/12/09'    109       133     195.1\n",
      "9         60  '2020/12/10'     98       124     269.0\n",
      "10        60  '2020/12/11'    103       147     329.3\n",
      "11        60  '2020/12/12'    100       120     250.7\n",
      "12        60  '2020/12/12'    100       120     250.7\n",
      "13        60  '2020/12/13'    106       128     345.3\n",
      "14        60  '2020/12/14'    104       132     379.3\n",
      "15        60  '2020/12/15'     98       123     275.0\n",
      "16        60  '2020/12/16'     98       120     215.2\n",
      "17        60  '2020/12/17'    100       120     300.0\n",
      "19        60  '2020/12/19'    103       123     323.0\n",
      "20        45  '2020/12/20'     97       125     243.0\n",
      "21        60  '2020/12/21'    108       131     364.2\n",
      "23        60  '2020/12/23'    130       101     300.0\n",
      "24        45  '2020/12/24'    105       132     246.0\n",
      "25        60  '2020/12/25'    102       126     334.5\n",
      "26        60      20201226    100       120     250.0\n",
      "27        60  '2020/12/27'     92       118     241.0\n",
      "29        60  '2020/12/29'    100       132     280.0\n",
      "30        60  '2020/12/30'    102       129     380.3\n",
      "31        60  '2020/12/31'     92       115     243.0\n"
     ]
    }
   ],
   "source": [
    "# to remove row that containing null values\n",
    "import pandas as pd\n",
    "df=pd.read_csv('dirtydata.csv')\n",
    "ndf=df.dropna()\n",
    "print(ndf)\n"
   ]
  }
 ],
 "metadata": {
  "kernelspec": {
   "display_name": "Python 3 (ipykernel)",
   "language": "python",
   "name": "python3"
  },
  "language_info": {
   "codemirror_mode": {
    "name": "ipython",
    "version": 3
   },
   "file_extension": ".py",
   "mimetype": "text/x-python",
   "name": "python",
   "nbconvert_exporter": "python",
   "pygments_lexer": "ipython3",
   "version": "3.9.12"
  }
 },
 "nbformat": 4,
 "nbformat_minor": 5
}
